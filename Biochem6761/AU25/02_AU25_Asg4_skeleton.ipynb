{
  "cells": [
    {
      "cell_type": "markdown",
      "metadata": {
        "colab_type": "text",
        "id": "view-in-github"
      },
      "source": [
        "<a href=\"https://colab.research.google.com/github/TheTrappist/teaching/blob/main/Biochem6761/AU25/02_AU25_Asg4_skeleton.ipynb\" target=\"_parent\"><img src=\"https://colab.research.google.com/assets/colab-badge.svg\" alt=\"Open In Colab\"/></a>"
      ]
    },
    {
      "cell_type": "markdown",
      "metadata": {},
      "source": [
        "**This notebook can be used as a \"skeleton\" outline for this week's assignment, requiring you to only fill in a few pieces here and there. I encourage you to write as much of the code from scratch as you can and rely on the example notebook I shared in class for inspiration, but you are free to make your own choice here.**"
      ]
    },
    {
      "cell_type": "code",
      "execution_count": null,
      "metadata": {
        "id": "uzeCOqYiqtsj"
      },
      "outputs": [],
      "source": [
        "# Import necessary modules: numpy for numercal manipulations and pyplot for plotting.\n",
        "import numpy as np\n",
        "from matplotlib import pyplot as plt\n",
        "\n",
        "plt.style.use(\"bmh\") # (optional) style settings to make your subsequent plots look nicer\n",
        "\n",
        "print('Done importing!')"
      ]
    },
    {
      "cell_type": "code",
      "execution_count": null,
      "metadata": {
        "id": "vVLNl7VNVUZY"
      },
      "outputs": [],
      "source": [
        "# Define a function for calculating pH using the Henderson-Hasselbalch equation\n",
        "\n",
        "def hend_hass(pKa, equivOH):\n",
        "    \"\"\"This function returns a pH when given pKa and equivalents of OH-\"\"\"\n",
        "    \n",
        "    # Rewrite the ratio [A-]/[HA] in terms of OH- equivalents, \"equivOH\":\n",
        "    A_minus_over_HA = ### REMOVE THIS COMMENT AND COMPLETE THE EXPRESSION ###\n",
        "    \n",
        "    # The actual Henderson-Hasselbalch equation:\n",
        "    pH = pKa + np.log10(A_minus_over_HA)\n",
        "    \n",
        "    return pH\n",
        "\n",
        "\n",
        "# Sanity check: make sure your function gives the expected result at 0.5 OH- equivalents,\n",
        "# where you would expect the pH to be equal to the pKa\n",
        "\n",
        "pH = hend_hass(4, 0.5) # The first number in parentheses, 4, is the pKa; the second is equivalents OH-\n",
        "print(\"Calculated pH:\", pH)"
      ]
    },
    {
      "cell_type": "code",
      "execution_count": null,
      "metadata": {},
      "outputs": [],
      "source": [
        "# Plot the Henderson-Hasselbalch curve for an entire titration\n",
        "\n",
        "# Define the range of x-values (equivalents OH-) to use.\n",
        "# (note: there's a reason we're not going from 0 to 1!)\n",
        "x = np.linspace(0.0001,0.9999, 1000) # this generates 1000 points from 0.0001 to 0.9999\n",
        "\n",
        "pKa = ### FILL IN HERE! ### Decide what pKa value you want to use for your plot\n",
        "y = hend_hass(pKa,x) # calculate matching y-values (pH values) for your x-values\n",
        "\n",
        "# Make a simple Henderson-Hasslebalch plot!\n",
        "fig, ax = plt.subplots() # Create a new figure and axes for plotting\n",
        "\n",
        "ax.plot(x,y) # Plot your paired x and y values in this new figure\n",
        "\n",
        "# Always label your axes!\n",
        "ax.set_ylabel('pH')\n",
        "ax.set_xlabel('Equivalents OH-')\n"
      ]
    },
    {
      "cell_type": "code",
      "execution_count": null,
      "metadata": {
        "id": "DhUVBCUhZJZA"
      },
      "outputs": [],
      "source": [
        "\"\"\"\n",
        "Add more code to answer the last couple of questions here!\n",
        "\"\"\"\n"
      ]
    }
  ],
  "metadata": {
    "colab": {
      "authorship_tag": "ABX9TyMgdLid4Fg0djAE3zQaSDzw",
      "include_colab_link": true,
      "provenance": []
    },
    "kernelspec": {
      "display_name": "basic",
      "language": "python",
      "name": "python3"
    },
    "language_info": {
      "codemirror_mode": {
        "name": "ipython",
        "version": 3
      },
      "file_extension": ".py",
      "mimetype": "text/x-python",
      "name": "python",
      "nbconvert_exporter": "python",
      "pygments_lexer": "ipython3",
      "version": "3.13.2"
    }
  },
  "nbformat": 4,
  "nbformat_minor": 0
}
