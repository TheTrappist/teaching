{
  "cells": [
    {
      "cell_type": "markdown",
      "metadata": {
        "colab_type": "text",
        "id": "view-in-github"
      },
      "source": [
        "<a href=\"https://colab.research.google.com/github/TheTrappist/teaching/blob/main/Biochem6761/AU25/01_Intro_AU25.ipynb\" target=\"_parent\"><img src=\"https://colab.research.google.com/assets/colab-badge.svg\" alt=\"Open In Colab\"/></a>"
      ]
    },
    {
      "cell_type": "code",
      "execution_count": null,
      "metadata": {
        "id": "4mJaSH4i5dsI"
      },
      "outputs": [],
      "source": [
        "# Hi, and welcome to Biochem 6761!\n",
        "# This is a comment. The computer won't do anything about it.\n",
        "# Single-line comments are indicated by a pound '#' sign.\n",
        "\n",
        "\"\"\"\n",
        "Multi-line comments look\n",
        "like this!\n",
        "\"\"\"\n",
        "\n",
        "# Let's have the computer actually do something.\n",
        "\n",
        "\n",
        "# Remove the comments below to run the sample code\n",
        "\n",
        "a = 5 # a is a variable. we can call it (almost) anything we want\n",
        "\"\"\"\n",
        "print(a)\n",
        "print(a+5)\n",
        "\n",
        "\"\"\"\n"
      ]
    },
    {
      "cell_type": "markdown",
      "metadata": {},
      "source": [
        "**This is a text cell. It won't trigger any code to run and can be used to annotate (describe) segments of code.**"
      ]
    },
    {
      "cell_type": "code",
      "execution_count": null,
      "metadata": {
        "id": "uzeCOqYiqtsj"
      },
      "outputs": [],
      "source": [
        "# Variables can (and often do) store sequences of data, like a column or a table\n",
        "# in Excel. Let's see what that looks like.\n",
        "\n",
        "# The following is an import statement. It loads additional functions stored in\n",
        "# modules\n",
        "import numpy as np\n",
        "\n",
        "# Let's create a variable that stores a small linear array of data\n",
        "x = np.linspace(1,5,5)\n",
        "print(x)\n",
        "\n",
        "# Let's pull the first element of this array\n",
        "first_el = x[0] # note that the first element has the \"index\" of zero, not one\n",
        "print(first_el)\n",
        "\n",
        "# Now, let's pull the fourth element\n",
        "\"\"\"\n",
        "Remove comments and paste your code here!\n",
        "\"\"\"\n"
      ]
    },
    {
      "cell_type": "code",
      "execution_count": null,
      "metadata": {
        "id": "vVLNl7VNVUZY"
      },
      "outputs": [],
      "source": [
        "# Excel starts having real trouble when your dataset reaches into the tens of\n",
        "# thousands of datapoints. Let's see how Python does:\n",
        "big_data = np.random.rand(1000,3)\n",
        "print(big_data)\n",
        "\n",
        "\"\"\"\n",
        "Remove these comments and see how big you can go before you start running into\n",
        "issues!\n",
        "\"\"\""
      ]
    },
    {
      "cell_type": "code",
      "execution_count": null,
      "metadata": {
        "id": "SzAXbHTFTVA4"
      },
      "outputs": [],
      "source": [
        "# Getting into some simple plotting: visualizing your data is supremely helpful!\n",
        "\n",
        "# Import the standard plotting module\n",
        "from matplotlib import pyplot as plt\n",
        "\n",
        "small_data = np.random.rand(200,2)\n",
        "\n",
        "x = small_data[:,0]\n",
        "y = small_data[:,1]\n",
        "\n",
        "plt.plot(x,y, marker='o', linestyle='')\n"
      ]
    },
    {
      "cell_type": "code",
      "execution_count": null,
      "metadata": {
        "id": "r1fN3oK3SQC_"
      },
      "outputs": [],
      "source": [
        "# Functions are a convenient way to group together several calculations\n",
        "\n",
        "# This is the definition of a function that takes the inverse of a number\n",
        "def take_inverse(x):\n",
        "  inv = 1.0 / x\n",
        "  return inv\n",
        "\n",
        "#Here's how we can use it inside other code\n",
        "\n",
        "test_num = 15\n",
        "test_result = take_inverse(test_num)\n",
        "print(test_result)\n"
      ]
    },
    {
      "cell_type": "code",
      "execution_count": null,
      "metadata": {
        "id": "DhUVBCUhZJZA"
      },
      "outputs": [],
      "source": [
        "\"\"\"\n",
        "Your turn! In this cell, write a function that takes the average of two numbers.\n",
        "Check to see if it works!\n",
        "\"\"\"\n"
      ]
    },
    {
      "cell_type": "code",
      "execution_count": null,
      "metadata": {
        "id": "RRSsv2s_TDJo"
      },
      "outputs": [],
      "source": [
        "# Let's put some of the above together and do some plotting!\n",
        "\n",
        "from matplotlib import pyplot as plt\n",
        "\n",
        "x = np.linspace(0, 10, 100)\n",
        "\n",
        "# This is a definition of a function\n",
        "def exponent(x,a):\n",
        "  y = np.power(x,a)\n",
        "  return(y)\n",
        "\n",
        "y = exponent(x,2)\n",
        "\n",
        "plt.style.use(\"bmh\")\n",
        "\n",
        "# Let's make a simple plot\n",
        "fig, ax = plt.subplots()\n",
        "ax.plot(x,y)\n"
      ]
    },
    {
      "cell_type": "code",
      "execution_count": null,
      "metadata": {
        "id": "8YHNBWTsbFCY"
      },
      "outputs": [],
      "source": [
        "# Let's write a simple loop to see how this plot will change when we change\n",
        "# the exponent\n",
        "\n",
        "fig2, ax2 = plt.subplots()\n",
        "\n",
        "for exp in np.linspace(0.4,3,8):\n",
        "  ax2.plot(x, exponent(x,exp))\n"
      ]
    }
  ],
  "metadata": {
    "colab": {
      "authorship_tag": "ABX9TyMgdLid4Fg0djAE3zQaSDzw",
      "include_colab_link": true,
      "provenance": []
    },
    "kernelspec": {
      "display_name": "basic",
      "language": "python",
      "name": "python3"
    },
    "language_info": {
      "codemirror_mode": {
        "name": "ipython",
        "version": 3
      },
      "file_extension": ".py",
      "mimetype": "text/x-python",
      "name": "python",
      "nbconvert_exporter": "python",
      "pygments_lexer": "ipython3",
      "version": "3.13.2"
    }
  },
  "nbformat": 4,
  "nbformat_minor": 0
}
