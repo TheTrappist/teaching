{
  "nbformat": 4,
  "nbformat_minor": 0,
  "metadata": {
    "colab": {
      "provenance": [],
      "authorship_tag": "ABX9TyMvrWWN0kMijQLFGwlB2Aj1",
      "include_colab_link": true
    },
    "kernelspec": {
      "name": "python3",
      "display_name": "Python 3"
    },
    "language_info": {
      "name": "python"
    }
  },
  "cells": [
    {
      "cell_type": "markdown",
      "metadata": {
        "id": "view-in-github",
        "colab_type": "text"
      },
      "source": [
        "<a href=\"https://colab.research.google.com/github/TheTrappist/teaching/blob/main/Biochem6761/AU23/03_Fitting_Enzymes_AU23.ipynb\" target=\"_parent\"><img src=\"https://colab.research.google.com/assets/colab-badge.svg\" alt=\"Open In Colab\"/></a>"
      ]
    },
    {
      "cell_type": "markdown",
      "source": [
        "# Relevant equations\n",
        "\n",
        "Standard Michaelis-Menten:\n",
        "\n",
        "$v_0=\\frac{V_{max}}{\\left(1+\\frac{K_M}{[S]}\\right)}$\n",
        "\n",
        "\n",
        "Competitive inhibition:\n",
        "\n",
        "$v_0=\\frac{V_{max}}{\\left(1+\\frac{K^*_M}{[S]}\\right)}$, where\n",
        "\n",
        "$K^*_M = K_M\\left(1+\\frac{[I]}{K_I}\\right)$\n",
        "\n",
        "Noncompetitive inhibition:\n",
        "\n",
        "$v_0=\\frac{V^*_{max}}{\\left(1+\\frac{K_M}{[S]}\\right)}$, where\n",
        "\n",
        "$V^*_{max} = \\frac{V_{max}}{\\left(1+\\frac{[I]}{K_I}\\right)}$\n"
      ],
      "metadata": {
        "id": "MCrdrJYJQ5_d"
      }
    },
    {
      "cell_type": "markdown",
      "source": [
        "Where to find the data:\n",
        "\n",
        "$v_0$ measurements at different concentrations of substrate and inhibitor for compound A:\n",
        "https://raw.githubusercontent.com/TheTrappist/teaching/main/Biochem6761/AU23/Sample_data/AU23_kineticsData_InClass_Compound_A.csv\n",
        "\n",
        "$v_0$ measurements at different concentrations of substrate and inhibitor for compound B:\n",
        "https://raw.githubusercontent.com/TheTrappist/teaching/main/Biochem6761/AU23/Sample_data/AU23_kineticsData_InClass_Compound_B.csv\n",
        "\n",
        "\n",
        "Note that for each of the data files above, the **first column** contains **substrate concentrations** (in nM) and the **first row** contains **inhibitor concentrations** (also in nM).\n",
        "\n",
        "(Bonus): Several trials of measurements for WT and mutant enzymes:\n",
        "https://raw.githubusercontent.com/TheTrappist/teaching/main/Biochem6761/AU23/Sample_data/AU23_EnzymeKm_WT_vs_mutant.csv"
      ],
      "metadata": {
        "id": "ilcrzk4dlbFc"
      }
    },
    {
      "cell_type": "code",
      "source": [
        "# Import libraries and define functions\n",
        "\n",
        "import numpy as np\n",
        "import pandas as pd\n",
        "from matplotlib import pyplot as plt\n",
        "from scipy.optimize import curve_fit\n",
        "\n",
        "# Function definitions:\n",
        "\n",
        "# Simple Michaelis-Menten:\n",
        "def m_m(conc_S, V_max, K_M):\n",
        "  #conc_S is the substrate concentration\n",
        "  v_0 = V_max / (1 + K_M / conc_S)\n",
        "  return v_0\n",
        "\n",
        "# Apparent K_M in a competitive inhibition scenario\n",
        "def K_M_comp(conc_I, K_M, K_I):\n",
        "  # conc_I is the inhibitor concentration\n",
        "\n",
        "  #\n",
        "  # Put a formula here that returns the apparent KM given the specified parameters\n",
        "  #\n",
        "\n",
        "  return K_M_app\n"
      ],
      "metadata": {
        "id": "B7Asjy6NCoYr"
      },
      "execution_count": null,
      "outputs": []
    },
    {
      "cell_type": "code",
      "source": [
        "# Plot and analyze the  data\n",
        "\n",
        "# Read data from Github:\n",
        "df = pd.read_csv('https://raw.githubusercontent.com/TheTrappist/teaching/main/Biochem6761/AU23/Sample_data/AU23_kineticsData_InClass_Compound_A.csv')\n",
        "#df = pd.read_csv('https://raw.githubusercontent.com/TheTrappist/teaching/main/Biochem6761/AU23/Sample_data/AU23_kineticsData_InClass_Compound_B.csv')\n",
        "\n",
        "\n",
        "# prepare for plotting\n",
        "plt.style.use(\"bmh\")\n",
        "fig,ax = plt.subplots()\n",
        "ax.set_xlabel('[substrate]')\n",
        "ax.set_ylabel('$v_0$')\n",
        "\n",
        "# set up arrays for storing fit values\n",
        "conc_I_vals = []\n",
        "K_M_fit = []\n",
        "V_max_fit = []\n",
        "\n",
        "# Read the saved data and fit it to Michaelis-Menten kinetics\n",
        "for column in df: # iterate over all columns in the dataframe\n",
        "\n",
        "  if column == 'conc_S_nM': # This runs only when reading the first column\n",
        "    # Get substrate concentrations in nM:\n",
        "    conc_S_vals = np.array(df['conc_S_nM'])\n",
        "\n",
        "  else: # This runs for every subsequent column\n",
        "    conc_I = float(column) # Use column title to get concentration of inhibitor\n",
        "    v_0_vals = np.array(df[column]) # read v_0 values for this concentration\n",
        "\n",
        "    # Plot the v_0 values:\n",
        "\n",
        "    ###\n",
        "\n",
        "    # fit to Michaelis-Menten\n",
        "\n",
        "    ###\n",
        "\n",
        "    # plot the results of the fit\n",
        "\n",
        "    ###\n",
        "\n",
        "    # Save the fit parameters for V_max and K_M for future analysis\n",
        "\n",
        "    ###\n",
        "\n",
        "    # Save the [inhibitor] for this particular column:\n",
        "    conc_I_vals.append(conc_I)\n",
        "\n",
        "\n"
      ],
      "metadata": {
        "id": "pz4lac-GK7V-"
      },
      "execution_count": null,
      "outputs": []
    },
    {
      "cell_type": "code",
      "source": [
        "# Plot the apparent V_max and apparent K_M values as a function of [inhibitior]\n",
        "fig2, axs2 = plt.subplots(1,2)\n",
        "\n",
        "# Set up axes for nice plotting\n",
        "axs2[0].set_xlabel('[Inhibitor]')\n",
        "axs2[0].set_ylabel('$v^*_{max}$')\n",
        "axs2[1].set_xlabel('[Inhibitor]')\n",
        "axs2[1].set_ylabel('$K^*_M$')\n",
        "plt.tight_layout()\n",
        "\n",
        "# Plot V_max vs [Inhibitor] on the first axes (use V_max from your fit in\n",
        "# the previous cell)\n",
        "\n",
        "###\n",
        "\n",
        "# Plot K_M vs [Inhibitor] on the second axes (use K_M from your fit in\n",
        "# the previous cell)\n",
        "\n",
        "###\n",
        "\n",
        "# Fit results to competitive inhibition model\n",
        "\n",
        "###\n",
        "\n",
        "# plot results of the fit\n",
        "\n",
        "###"
      ],
      "metadata": {
        "id": "XkvKzOvwruEh"
      },
      "execution_count": null,
      "outputs": []
    },
    {
      "cell_type": "code",
      "source": [
        "# Bonus assignment!\n",
        "\n",
        "# Load data for K_M values determined for two enzymes two enzymes\n",
        "df2 = pd.read_csv('https://raw.githubusercontent.com/TheTrappist/teaching/main/Biochem6761/AU23/Sample_data/AU23_EnzymeKm_WT_vs_mutant.csv')\n",
        "\n",
        "print(df2)\n",
        "\n",
        "# Analyzing the data by resampling\n",
        "rng = np.random.default_rng() # initialize random number generator\n",
        "WT_Kms = np.array(df2['Enzyme_WT_Km'])\n",
        "mut_Kms = np.array(df2['Enzyme_mut_Km'])\n",
        "all_Kms = np.concatenate((WT_Kms, mut_Kms), axis=None) # pool all data together\n",
        "\n",
        "num_samples = 10000 # how many times to run the resampling algorithm\n",
        "\n",
        "# Define an array for storing differences\n",
        "diffs = np.zeros(num_samples)\n",
        "\n",
        "# get absolute difference in mean K_M values of the two enzymes:\n",
        "diff_original = np.abs(np.mean(WT_Kms) - np.mean(mut_Kms))\n",
        "\n",
        "# Run resampling:\n",
        "\n",
        "###\n",
        "\n",
        "\n",
        "# Calculate p-value for difference between the means of the two enzymes' K_Ms:\n",
        "\n",
        "###"
      ],
      "metadata": {
        "id": "OlLk9VqQX67K"
      },
      "execution_count": null,
      "outputs": []
    }
  ]
}