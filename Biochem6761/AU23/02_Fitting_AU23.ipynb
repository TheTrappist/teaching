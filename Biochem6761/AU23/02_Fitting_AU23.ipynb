{
  "nbformat": 4,
  "nbformat_minor": 0,
  "metadata": {
    "colab": {
      "provenance": [],
      "authorship_tag": "ABX9TyNyQGzHrQTXyYM+p/+Uzdpy",
      "include_colab_link": true
    },
    "kernelspec": {
      "name": "python3",
      "display_name": "Python 3"
    },
    "language_info": {
      "name": "python"
    }
  },
  "cells": [
    {
      "cell_type": "markdown",
      "metadata": {
        "id": "view-in-github",
        "colab_type": "text"
      },
      "source": [
        "<a href=\"https://colab.research.google.com/github/TheTrappist/teaching/blob/main/Biochem6761/AU23/02_Fitting_AU23.ipynb\" target=\"_parent\"><img src=\"https://colab.research.google.com/assets/colab-badge.svg\" alt=\"Open In Colab\"/></a>"
      ]
    },
    {
      "cell_type": "code",
      "source": [
        "# Let's do some simple plotting!\n",
        "\n",
        "# The following are import statements. They load additional\n",
        "# functions stored in libraries\n",
        "import numpy as np\n",
        "import pandas as pd\n",
        "from matplotlib import pyplot as plt\n",
        "\n",
        "x = np.linspace(0, 10, 100)\n",
        "\n",
        "# This is a definition of a function\n",
        "def exponent(x,a):\n",
        "  y = np.power(x,a)\n",
        "  return(y)\n",
        "\n",
        "y = exponent(x,2)\n",
        "\n",
        "plt.style.use(\"bmh\")\n",
        "\n",
        "# Let's make a simple plot\n",
        "fig, ax = plt.subplots()\n",
        "ax.plot(x,y)\n",
        "\n",
        "#print(plt.style.available)"
      ],
      "metadata": {
        "id": "RRSsv2s_TDJo"
      },
      "execution_count": null,
      "outputs": []
    },
    {
      "cell_type": "markdown",
      "source": [
        "**This is a text cell. It won't trigger any code to run and can be used to annotate (describe) segments of code.**"
      ],
      "metadata": {
        "id": "p3pEXZe8V-Sf"
      }
    },
    {
      "cell_type": "markdown",
      "source": [
        "# This is a cell storing text and equations.\n",
        "\n",
        "The simple hyperbolic binding formula assumes that the concentration of receptor is very low:\n",
        "\n",
        "$f_{bound}=\\frac{[L]_{total}}{[L]_{total}+K_D}$\n",
        "\n",
        "\n",
        "The fuller (and more accurate) quadratic form explicitly accoutns for the concentration of protein/receptor:\n",
        "\n",
        "$f_{bound}=\\frac{([R]_{total}+[L]_{total}+K_D)-\\sqrt{([R]_{total}+[L]_{total}+K_D)^2-4\\times[R]_{total}\\times{[L]_{total}}}}{2\\times[R]_{total}}$\n",
        "\n",
        "In both equations:\n",
        "\n",
        "- $f_{bound}$ is the fraction of receptors that have a ligand bound\n",
        "- $K_D$ is the dissociation constant for the ligand\n",
        "- $[L]_{total}$ is the total concentration of the ligand in solution\n",
        "- $[R]_{total}$ is the total concentration of protein (receptor) in solution\n",
        "\n",
        "\n",
        "A fun paper for reference that blasts most published binding analyses:https://elifesciences.org/articles/57264"
      ],
      "metadata": {
        "id": "MCrdrJYJQ5_d"
      }
    },
    {
      "cell_type": "code",
      "source": [
        "# Rewrite the functions described in the previous cell in actual code\n",
        "\n",
        "def f_bound_hyperbolic(L_tot,K_D):\n",
        "  f_bound = 1 / (1 + K_D/L_tot)\n",
        "  return f_bound\n",
        "\n",
        "def f_bound_quadratic(L_tot, K_D, R_tot):\n",
        "  # recast into standard quadratic equation for clarity\n",
        "  a = R_tot\n",
        "  b = -(R_tot+L_tot+K_D)\n",
        "  c = L_tot\n",
        "  f_bound = (-b - np.sqrt(b**2-4*a*c)) / (2*a)\n",
        "  return f_bound\n",
        "\n"
      ],
      "metadata": {
        "id": "K4XmHXTmYeZ6"
      },
      "execution_count": null,
      "outputs": []
    },
    {
      "cell_type": "code",
      "source": [
        "# Use the functions we just defined to make some plots!\n",
        "\n",
        "# Define a concentration range and parameters.\n",
        "L_tot = np.linspace(0.1,500,500)\n",
        "K_D = 50\n",
        "R_tot = 300\n",
        "\n",
        "f_hyper = f_bound_hyperbolic(L_tot,K_D)\n",
        "f_quad = f_bound_quadratic(L_tot, K_D, R_tot)\n",
        "\n",
        "fig, axs = plt.subplots(2,1)\n",
        "axs[0].plot(L_tot, f_hyper)\n",
        "axs[1].plot(L_tot, f_quad)\n",
        "axs[1].set_xlabel('$L_{tot}$')\n",
        "\n",
        "\n",
        "# Can you make the quadratic plot for a wide range of R_tot values?\n",
        "\n",
        "# Put your code here!"
      ],
      "metadata": {
        "id": "73Z3m-TD6ws1"
      },
      "execution_count": null,
      "outputs": []
    },
    {
      "cell_type": "code",
      "source": [
        "# Now, let's simulate some biding data and see if we can fit it\n",
        "\n",
        "def simulate_quad_data(ligand_conc_array, R_tot, K_D, noise_std):\n",
        "  f_bound_array = f_bound_quadratic(ligand_conc_array, K_D, R_tot)\n",
        "  noise = np.random.normal(scale=noise_std, size = f_bound_array.size)\n",
        "  result_with_noise = f_bound_array + noise\n",
        "  return result_with_noise\n",
        "\n",
        "\n",
        "# simulate data\n",
        "sim_array = np.logspace(0.01,2.7,6) # Set the x-values for simulated data\n",
        "noise_std = 0.03 # Set the noise level of the data\n",
        "sim_y_values = simulate_quad_data(sim_array, R_tot, K_D, noise_std)\n",
        "\n",
        "# plot the simulated data\n",
        "fig2, ax2 = plt.subplots()\n",
        "ax2.plot(sim_array, sim_y_values, ls='', marker='o', color='g')\n"
      ],
      "metadata": {
        "id": "v5S9njwxWzC2"
      },
      "execution_count": null,
      "outputs": []
    },
    {
      "cell_type": "code",
      "source": [
        "# Load the nonlinear least squares fit function:\n",
        "from scipy.optimize import curve_fit\n",
        "\n",
        "\n",
        "# plot the simulated data again\n",
        "fig2, ax2 = plt.subplots()\n",
        "ax2.plot(sim_array, sim_y_values, ls='', marker='o', color='g')\n",
        "\n",
        "# fit the simulated data\n",
        "\n",
        "# this is the actual fitting step:\n",
        "popt, pcov = curve_fit(f_bound_quadratic, sim_array, sim_y_values)\n",
        "\n",
        "# If you want to constrain one of the parameters, use \"bounds\":\n",
        "#popt, pcov = curve_fit(f_bound_quadratic, sim_array, sim_y_values,\n",
        "#                       bounds=([0,R_tot],[np.inf,R_tot*1.0001]))\n",
        "\n",
        "# print fit results\n",
        "print(\"Kd from quadratic fit:\", popt[0])\n",
        "\n",
        "# plot fit results\n",
        "f_quad_fit = f_bound_quadratic(L_tot, popt[0], popt[1])\n",
        "ax2.plot(L_tot, f_quad_fit)\n",
        "\n",
        "# does fitting with a hyperbolic function work as well?\n",
        "#popt, pcov = curve_fit(f_bound_hyperbolic, sim_array, sim_y_values)\n",
        "#f_hyper_fit = f_bound_hyperbolic(L_tot, popt[0])\n",
        "#ax2.plot(L_tot, f_hyper_fit)\n",
        "#print(\"Kd from hyperbolic fit:\", popt[0])"
      ],
      "metadata": {
        "id": "fV0UdTRJxbyh"
      },
      "execution_count": null,
      "outputs": []
    },
    {
      "cell_type": "code",
      "source": [
        "# Now, let's learn how to read and analyze some actual data!\n",
        "\n",
        "# Pull the file from the Github repository\n",
        "\n",
        "binding_data = pd.read_csv('https://raw.githubusercontent.com/TheTrappist/teaching/main/Biochem6761/AU23/Sample_data/AU23_bindingData_01.csv')\n",
        "print(binding_data.head())"
      ],
      "metadata": {
        "id": "0T7IYasruG86"
      },
      "execution_count": null,
      "outputs": []
    },
    {
      "cell_type": "code",
      "source": [
        "# plot the loaded data\n",
        "fig3, ax3 = plt.subplots()\n",
        "ligand_nM = np.array(binding_data['ligand_nM'])\n",
        "frac_bound = np.array(binding_data['frac_bound'])\n",
        "ax3.plot(ligand_nM, frac_bound, ls='', marker='o', color='g')\n"
      ],
      "metadata": {
        "id": "5IukblXhv4Lp"
      },
      "execution_count": null,
      "outputs": []
    },
    {
      "cell_type": "code",
      "source": [
        "# Let's fit these data\n",
        "\n",
        "\n",
        "# Write your own code here to fit the data from the CSV"
      ],
      "metadata": {
        "id": "J02gzCg2yDSA"
      },
      "execution_count": null,
      "outputs": []
    },
    {
      "cell_type": "code",
      "source": [
        "# How confident should we be in the fit? Let's try resampling\n",
        "\n",
        "num_samples = 10\n",
        "rng = np.random.default_rng() # initialize random number generator\n",
        "\n",
        "fig, ax = plt.subplots()\n",
        "\n",
        "points_per_sample = len(ligand_nM)\n",
        "\n",
        "Kd_values = np.zeros(num_samples) # initialize array for storing Kd values\n",
        "for i in range(num_samples):\n",
        "  indices = rng.integers(points_per_sample, size=points_per_sample)\n",
        "  x_vals = ligand_nM[indices]\n",
        "  y_vals = frac_bound[indices]\n",
        "\n",
        "  # Create a fit\n",
        "  popt, pcov = curve_fit(f_bound_quadratic, x_vals, y_vals)\n",
        "\n",
        "  Kd_values[i] = popt[0] # Save the Kd value from this fit\n",
        "  ax.plot(x_vals, y_vals, ls='', marker='o')\n",
        "\n",
        "  # plot the fit\n",
        "  #x_sim = np.arange(0,160,5)\n",
        "  #y_sim = f_bound_quadratic(x_sim, popt[0], popt[1])\n",
        "  #ax.plot(x_sim, y_sim)\n",
        "\n",
        "\n",
        "#print(Kd_values)\n",
        "#fig, ax = plt.subplots()\n",
        "#ax.hist(Kd_values)\n",
        "\n",
        "\n",
        "# Estimate confidence intervals\n",
        "\n",
        "#sorted = np.sort(Kd_values)\n",
        "#lower_ind = int(num_samples * 0.025)\n",
        "#upper_ind = int(num_samples * 0.975)\n",
        "#print(sorted[lower_ind], sorted[upper_ind]) # 95% conf. interval!\n"
      ],
      "metadata": {
        "id": "MJJuhnRN2b9e"
      },
      "execution_count": null,
      "outputs": []
    }
  ]
}