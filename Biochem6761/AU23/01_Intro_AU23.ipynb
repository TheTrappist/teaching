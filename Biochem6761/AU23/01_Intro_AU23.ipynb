{
  "nbformat": 4,
  "nbformat_minor": 0,
  "metadata": {
    "colab": {
      "provenance": [],
      "authorship_tag": "ABX9TyOQHQoI/r2y7HDKE5UhUU3Z",
      "include_colab_link": true
    },
    "kernelspec": {
      "name": "python3",
      "display_name": "Python 3"
    },
    "language_info": {
      "name": "python"
    }
  },
  "cells": [
    {
      "cell_type": "markdown",
      "metadata": {
        "id": "view-in-github",
        "colab_type": "text"
      },
      "source": [
        "<a href=\"https://colab.research.google.com/github/TheTrappist/teaching/blob/main/Biochem6761/AU23/01_Intro_AU23.ipynb\" target=\"_parent\"><img src=\"https://colab.research.google.com/assets/colab-badge.svg\" alt=\"Open In Colab\"/></a>"
      ]
    },
    {
      "cell_type": "code",
      "execution_count": null,
      "metadata": {
        "id": "4mJaSH4i5dsI"
      },
      "outputs": [],
      "source": [
        "# Hi, and welcome to Biochem 6761!\n",
        "# This is a comment. The computer won't do anything about it.\n",
        "# Single-line comments are indicated by a '#' sign.\n",
        "\n",
        "\"\"\"\n",
        "Multi-line comments look\n",
        "like this!\n",
        "\"\"\"\n",
        "\n",
        "# Let's have the computer actually do something.\n",
        "\n",
        "\n",
        "\n",
        "# Remove the comments below to run the sample code\n",
        "\"\"\"\n",
        "a = 5 # a is a variable. we can call it (almost) anything we want\n",
        "\n",
        "print(a)\n",
        "print(a+5)\n",
        "\n",
        "# this is a simple loop:\n",
        "for b in range(0,8):\n",
        "  c = b*b\n",
        "  print(c)\n",
        "\"\"\"\n"
      ]
    },
    {
      "cell_type": "code",
      "source": [
        "# Let's do some simple plotting!\n",
        "\n",
        "# The following are import statements. They load additional\n",
        "# functions stored in libraries\n",
        "import numpy as np\n",
        "from matplotlib import pyplot as plt\n",
        "\n",
        "x = np.linspace(0, 10, 100)\n",
        "\n",
        "# This is a definition of a function\n",
        "def exponent(x,a):\n",
        "  y = np.power(x,a)\n",
        "  return(y)\n",
        "\n",
        "y = exponent(x,2)\n",
        "\n",
        "plt.style.use(\"bmh\")\n",
        "\n",
        "# Let's make a simple plot\n",
        "fig, ax = plt.subplots()\n",
        "ax.plot(x,y)\n",
        "\n",
        "#print(plt.style.available)"
      ],
      "metadata": {
        "id": "RRSsv2s_TDJo"
      },
      "execution_count": null,
      "outputs": []
    },
    {
      "cell_type": "markdown",
      "source": [
        "**This is a text cell. It won't trigger any code to run and can be used to annotate (describe) segments of code.**"
      ],
      "metadata": {
        "id": "p3pEXZe8V-Sf"
      }
    },
    {
      "cell_type": "markdown",
      "source": [
        "# This is a cell storing text and equations in LaTeX.\n",
        "\n",
        "The simple hyperbolic binding formula assumes that the concentration of receptor is very low:\n",
        "\n",
        "$f_{bound}=\\frac{[L]_{total}}{[L]_{total}+K_D}$\n",
        "\n",
        "\\\\\n",
        "\n",
        "The fuller (and more accurate) quadratic form explicitly accoutns for the concentration of protein/receptor:\n",
        "\n",
        "$f_{bound}=\\frac{([R]_{total}+[L]_{total}+K_D)-\\sqrt{([R]_{total}+[L]_{total}+K_D)^2-4\\times[R]_{total}\\times{[L]_{total}}}}{2\\times[R]_{total}}$\n",
        "\n",
        "\\\\\n",
        "\n",
        "In both equations:\n",
        "\n",
        "- $f_{bound}$ is the fraction of receptors that have a ligand bound\n",
        "- $K_D$ is the dissociation constant for the ligand\n",
        "- $[L]_{total}$ is the total concentration of the ligand in solution\n",
        "- $[R]_{total}$ is the total concentration of protein (receptor) in solution\n",
        "\n",
        "\\\\\n",
        "\n",
        "A fun paper for reference that blasts most published binding analyses:https://elifesciences.org/articles/57264"
      ],
      "metadata": {
        "id": "MCrdrJYJQ5_d"
      }
    },
    {
      "cell_type": "code",
      "source": [
        "# Rewrite the functions described in the previous cell in actual code\n",
        "\n",
        "def f_bound_hyperbolic(L_tot,K_D):\n",
        "  f_bound = 1 / (1 + K_D/L_tot)\n",
        "  return f_bound\n",
        "\n",
        "def f_bound_quadratic(L_tot, K_D, R_tot):\n",
        "  # recast into standard quadratic equation for clarity\n",
        "  a = R_tot\n",
        "  b = -(R_tot+L_tot+K_D)\n",
        "  c = L_tot\n",
        "  f_bound = (-b - np.sqrt(b**2-4*a*c)) / (2*a)\n",
        "  return f_bound\n",
        "\n",
        "# Define a concentration range and parameters.\n",
        "L_tot = np.linspace(0.1,500,500)\n",
        "K_D = 50\n",
        "R_tot = 300\n",
        "\n",
        "fig, axs = plt.subplots(2,1)\n",
        "\n",
        "f_hyper = f_bound_hyperbolic(L_tot,K_D)\n",
        "f_quad = f_bound_quadratic(L_tot, K_D, R_tot)\n",
        "\n",
        "axs[0].plot(L_tot, f_hyper)\n",
        "axs[1].plot(L_tot, f_quad)\n",
        "axs[1].set_xlabel('$L_{tot}$')\n",
        "\n",
        "\n",
        "# Can you make the quadratic plot for a wide range of R_tot values?\n",
        "\n",
        "\"\"\"\n",
        "Replace this with your code!\n",
        "\"\"\""
      ],
      "metadata": {
        "id": "K4XmHXTmYeZ6"
      },
      "execution_count": null,
      "outputs": []
    },
    {
      "cell_type": "code",
      "source": [
        "# Now, let's simulate some biding data and see if we can fit it\n",
        "\n",
        "# Load the nonlinear least squares fit function:\n",
        "from scipy.optimize import curve_fit\n",
        "\n",
        "\n",
        "def simulate_quad_data(ligand_conc_array, R_tot, K_D, noise_std):\n",
        "  f_bound_array = f_bound_quadratic(ligand_conc_array, K_D, R_tot)\n",
        "  noise = np.random.normal(scale=noise_std, size = f_bound_array.size)\n",
        "  result_with_noise = f_bound_array + noise\n",
        "  return result_with_noise\n",
        "\n",
        "\n",
        "# simulate data\n",
        "sim_array = np.logspace(0.01,2.7,6)\n",
        "noise_std = 0.03\n",
        "sim_y_values = simulate_quad_data(sim_array, R_tot, K_D, noise_std)\n",
        "\n",
        "# plot the simulated data\n",
        "fig2, ax2 = plt.subplots()\n",
        "ax2.plot(sim_array, sim_y_values, ls='', marker='o', color='g')\n",
        "\n",
        "# fit the simulated data\n",
        "\n",
        "R_tot = 300\n",
        "\n",
        "# prepare function for fitting while keeping R_tot constant\n",
        "def quad_with_R_tot(L_tot, K_D):\n",
        "  return(f_bound_quadratic(L_tot, K_D, R_tot))\n",
        "\n",
        "# this is the actual fitting step:\n",
        "popt, pcov = curve_fit(quad_with_R_tot, sim_array, sim_y_values)\n",
        "\n",
        "# print fit results\n",
        "print(\"Kd from quadratic fit:\", popt)\n",
        "\n",
        "# plot fit results\n",
        "f_quad_fit = f_bound_quadratic(L_tot, popt[0], R_tot)\n",
        "ax2.plot(L_tot, f_quad_fit)\n",
        "\n",
        "# does fitting with a hyperbolic function work as well?\n",
        "popt, pcov = curve_fit(f_bound_hyperbolic, sim_array, sim_y_values)\n",
        "f_hyper_fit = f_bound_hyperbolic(L_tot, popt[0])\n",
        "ax2.plot(L_tot, f_hyper_fit)\n",
        "print(\"Kd from hyperbolic fit:\", popt)"
      ],
      "metadata": {
        "id": "v5S9njwxWzC2"
      },
      "execution_count": null,
      "outputs": []
    }
  ]
}