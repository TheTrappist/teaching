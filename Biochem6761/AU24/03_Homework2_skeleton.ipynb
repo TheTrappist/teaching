{
  "nbformat": 4,
  "nbformat_minor": 0,
  "metadata": {
    "colab": {
      "provenance": [],
      "authorship_tag": "ABX9TyPjGxddQrd7zaoQcNn+IK3L",
      "include_colab_link": true
    },
    "kernelspec": {
      "name": "python3",
      "display_name": "Python 3"
    },
    "language_info": {
      "name": "python"
    }
  },
  "cells": [
    {
      "cell_type": "markdown",
      "metadata": {
        "id": "view-in-github",
        "colab_type": "text"
      },
      "source": [
        "<a href=\"https://colab.research.google.com/github/TheTrappist/teaching/blob/main/Biochem6761/AU24/03_Homework2_skeleton.ipynb\" target=\"_parent\"><img src=\"https://colab.research.google.com/assets/colab-badge.svg\" alt=\"Open In Colab\"/></a>"
      ]
    },
    {
      "cell_type": "markdown",
      "source": [
        "This notebook will walk you through this week's homework assignment, breaking it down into small chunks and providing some \"skeleton\" code for you. To make it even easier, I strongly recommend first working thorugh my \"intro to curve fitting\" notebook that I shared with the class separately."
      ],
      "metadata": {
        "id": "JwW1f5Hlvjju"
      }
    },
    {
      "cell_type": "markdown",
      "source": [
        "# Relevant equations are all shown here\n",
        "\n",
        "Standard Michaelis-Menten:\n",
        "\n",
        "$v_0=\\frac{V_{max}}{\\left(1+\\frac{K_M}{[S]}\\right)}$\n",
        "\n",
        "\n",
        "Competitive inhibition:\n",
        "\n",
        "$v_0=\\frac{V_{max}}{\\left(1+\\frac{K^*_M}{[S]}\\right)}$, where\n",
        "\n",
        "$K^*_M = K_M\\left(1+\\frac{[I]}{K_I}\\right)$\n",
        "\n",
        "Noncompetitive inhibition:\n",
        "\n",
        "$v_0=\\frac{V^*_{max}}{\\left(1+\\frac{K_M}{[S]}\\right)}$, where\n",
        "\n",
        "$V^*_{max} = \\frac{V_{max}}{\\left(1+\\frac{[I]}{K_I}\\right)}$\n"
      ],
      "metadata": {
        "id": "TTzCwdmHANG0"
      }
    },
    {
      "cell_type": "code",
      "execution_count": null,
      "metadata": {
        "id": "Ikqv8UR8vikt"
      },
      "outputs": [],
      "source": [
        "# Step 1: let's pull the required data from Github\n",
        "\n",
        "import pandas as pd # remember, we're using pandas to read a csv file and\n",
        "# organize its contents into a 'dataframe', which is very similar to a table\n",
        "\n",
        "data = pd.read_csv('https://raw.githubusercontent.com/TheTrappist/teaching/main/Biochem6761/AU24/Sample_data/AU24_04_enzyme_kinetics_data.csv')\n",
        "\n",
        "# Let's see what we've got!\n",
        "print(data)"
      ]
    },
    {
      "cell_type": "code",
      "source": [
        "# OK, great, we have the data. As I told you in the assignment's desciption,\n",
        "# the first column (conc_S_nM) has concentrations of our substrate (ATP), while\n",
        "# each subsequent column stores the v0 values collected at a specified inhibitor\n",
        "# concentration (the inhibitor concentration is the column's \"name\", i.e. the\n",
        "# value in the first row)\n",
        "\n",
        "# Now, let's plot these data:\n",
        "\n",
        "from matplotlib import pyplot as plt # Import our plotting library\n",
        "\n",
        "fig1, ax1 = plt.subplots() # create the plot\n",
        "\n",
        "x_vals = data['conc_S_nM'] # our x-values for the plot will be the substrate\n",
        "# concentrations from the first column\n",
        "\n",
        "# Let's iterate over columns to get y-values for each inhibitor concentration:\n",
        "for column in data: # We use a \"for loop\" to go through columns one at a time\n",
        "  if column == 'conc_S_nM': continue # This just tells the loop to skip the\n",
        "  # first column, since it stores x-values rather than y-values\n",
        "  y_vals = data[column] # Get the v0 values for the current column\n",
        "\n",
        "  \"\"\" YOUR CODE BELOW \"\"\"\n",
        "\n",
        "  # Now, write a plot command to plot the x and y values for this current column\n",
        "  ax1.plot(??????, ?????, ls='', marker='o', label=column) # Replace the ?????\n",
        "  # symbols with the correct x and y values. Note that I'm using the 'label'\n",
        "  # keyword in options just so that we can have a nice legend in the plot.\n",
        "\n",
        "# Add a legend to see which data correspond to which inhibitor\n",
        "# concentration\n",
        "\n",
        "ax1.legend() # Add a legend and x & y labels here\n",
        "ax1.set_xlabel('[ATP]')\n",
        "ax1.set_ylabel(r'$v_0$')"
      ],
      "metadata": {
        "id": "PRXihCBIw1Tn"
      },
      "execution_count": null,
      "outputs": []
    },
    {
      "cell_type": "code",
      "source": [
        "# Next, let's prepare for fitting. As you saw before, the first key step\n",
        "# is to define a function that you want to fit the data to.\n",
        "\n",
        "from scipy.optimize import curve_fit # Get the curve_fit function\n",
        "\n",
        "# Complete the following function definition for Michaelis-Menten kinetics:\n",
        "def michaelis_menten(conc_S, Vmax, Km):\n",
        "\n",
        "   \"\"\" YOUR CODE BELOW \"\"\"\n",
        "\n",
        "  return v0\n",
        "\n",
        "# Now, let's iterate over inhibitor concentrations and fit each set of v0 values\n",
        "# to your Michaelis-Menten equation. We will store the results in a new\n",
        "# dataframe called 'fit_results'.\n",
        "\n",
        "fit_results = pd.DataFrame() # Creating the new dataframe (empty for now)\n",
        "\n",
        "# Let's start doing the fits one by one!\n",
        "for column in data:\n",
        "  if column == 'conc_S_nM': continue # Skip the first column again\n",
        "  y_vals = data[column] # just like before\n",
        "\n",
        "   \"\"\" YOUR CODE BELOW \"\"\"\n",
        "\n",
        "  popt, pcov = curve_fit(???????) # Replace the question marks with valid code\n",
        "\n",
        "  # Unpack 'popt' to get the Vmax and Km from the fit for the current\n",
        "  # concentration of inhibitor\n",
        "  Vmax = popt[0]\n",
        "  Km = popt[1]\n",
        "\n",
        "  conc_I = float(column) # Turn [inhibitor] from a sting into a number\n",
        "\n",
        "  # Save fit results for this [inhibitor] in fit_results. The following two\n",
        "  # lines might look complicated but they're just adding a row to fit_results\n",
        "  # that contains three values: conc_I, Vmax, and Km (the Vmax and Km both came\n",
        "  # out of the fit you just performed)\n",
        "  current_fit = pd.DataFrame({'conc_I':conc_I, 'Vmax':Vmax, 'Km':Km}, index=[0])\n",
        "  fit_results = pd.concat([fit_results,current_fit], ignore_index=True)\n",
        "\n",
        "# Let's see how our results look! You should get a nice table with fit results\n",
        "# for Vmax and Km values\n",
        "print(fit_results)"
      ],
      "metadata": {
        "id": "KrV5RvtY02hA"
      },
      "execution_count": null,
      "outputs": []
    },
    {
      "cell_type": "code",
      "source": [
        "# This is just a sanity check. Let's plot the results of our fits on top of the\n",
        "# real data to make sure they check out\n",
        "\n",
        "fig2, ax2 = plt.subplots()\n",
        "\n",
        "# As many times before, let's generate a bunch of evenly spaced x-values for a\n",
        "# smooth fit:\n",
        "\n",
        "import numpy as np\n",
        "\n",
        " \"\"\" YOUR CODE BELOW \"\"\"\n",
        "\n",
        "x_vals_fit = np.linspace(?????) # Replace the question marks to make a hundred\n",
        "# evenly spaced values from 1 to 300\n",
        "\n",
        "# First, let's plot the original data\n",
        "for column in data:\n",
        "  if column == 'conc_S_nM': continue\n",
        "  ax2.plot(data['conc_S_nM'], data[column], ls='', marker='o', label=column)\n",
        "\n",
        "# Now, let's construct and plot each fit\n",
        "for idx in fit_results.index: # Walk through fit_results one row at a time\n",
        "  Vmax = fit_results['Vmax'][idx] # idx is just the row's index\n",
        "  Km = fit_results['Km'][idx]\n",
        "\n",
        "  # Calculate v0 values from Michaelis-Menten\n",
        "  y_vals_fit = michaelis_menten(x_vals_fit, Vmax, Km)\n",
        "\n",
        "  # Plot the calculated fit\n",
        "  ax2.plot(x_vals_fit, y_vals_fit, color='gray')\n",
        "\n",
        "# Once again, add labels and legends\n",
        "ax2.legend() # Add a legend and x & y labels here\n",
        "ax2.set_xlabel('[ATP]')\n",
        "ax2.set_ylabel(r'$v_0$')"
      ],
      "metadata": {
        "id": "KAoC9gcH2KIa"
      },
      "execution_count": null,
      "outputs": []
    },
    {
      "cell_type": "code",
      "source": [
        "# Doesn't it look nice?"
      ],
      "metadata": {
        "id": "2ooOvGpc_Za7"
      },
      "execution_count": null,
      "outputs": []
    },
    {
      "cell_type": "code",
      "source": [
        "# Now, let's make a plot of how Vmax values change with inhibitor concentration.\n",
        "# This is super straightforward since we already did the hard work of fitting.\n",
        "\n",
        "fig3, ax3 = plt.subplots()\n",
        "\n",
        "x_vals = fit_results['conc_I']\n",
        "y_vals = fit_results['Vmax']\n",
        "\n",
        "ax3.plot(x_vals, y_vals, ls='', marker='o')\n",
        "ax3.set_xlabel('[inhibitor]')\n",
        "ax3.set_ylabel('Apparent Vmax')\n",
        "\n",
        "# Can you do the same for Km?\n",
        "\n",
        " \"\"\" YOUR CODE BELOW \"\"\"\n",
        " # Make a similar plot as the one above, but for Km vs [inhibitor]\n"
      ],
      "metadata": {
        "id": "qhcC10Ad_bl8"
      },
      "execution_count": null,
      "outputs": []
    },
    {
      "cell_type": "code",
      "source": [
        "# Final stretch! Based on which parameter (Vmax or Km) seems to be changing\n",
        "# more dramatically, pick the more relevant equation relating K_I_ (dissociation\n",
        "# constant for the inhibitor), inhibitor concentration, and apparent Vmax OR\n",
        "# apparent Km.\n",
        "\n",
        "\n",
        " \"\"\" YOUR CODE BELOW \"\"\"\n",
        "\n",
        " # This is all yours! Define the relevant funtion and fit the appropriate data\n",
        " # to it. You've got this!\n",
        "\n"
      ],
      "metadata": {
        "id": "ST_1rwq7BJK0"
      },
      "execution_count": null,
      "outputs": []
    }
  ]
}