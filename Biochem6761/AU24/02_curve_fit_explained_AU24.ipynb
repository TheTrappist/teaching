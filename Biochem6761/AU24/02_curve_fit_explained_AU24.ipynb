{
  "nbformat": 4,
  "nbformat_minor": 0,
  "metadata": {
    "colab": {
      "provenance": [],
      "authorship_tag": "ABX9TyPSo6kNMwvaaQRaGWH6ohd/",
      "include_colab_link": true
    },
    "kernelspec": {
      "name": "python3",
      "display_name": "Python 3"
    },
    "language_info": {
      "name": "python"
    }
  },
  "cells": [
    {
      "cell_type": "markdown",
      "metadata": {
        "id": "view-in-github",
        "colab_type": "text"
      },
      "source": [
        "<a href=\"https://colab.research.google.com/github/TheTrappist/teaching/blob/main/Biochem6761/AU24/02_curve_fit_explained_AU24.ipynb\" target=\"_parent\"><img src=\"https://colab.research.google.com/assets/colab-badge.svg\" alt=\"Open In Colab\"/></a>"
      ]
    },
    {
      "cell_type": "code",
      "execution_count": null,
      "metadata": {
        "id": "4mJaSH4i5dsI"
      },
      "outputs": [],
      "source": [
        "# This notebook is designed to illustrate and describe the process of taking\n",
        "# data and fitting them to a known equation, with step-by-step explanations of\n",
        "# the functions used. Please read these comments throughout the code; they will\n",
        "# provide guidance along the way!"
      ]
    },
    {
      "cell_type": "code",
      "source": [
        "# First, let's download the data used for this exercise\n",
        "\n",
        "import pandas as pd # The pandas library will just be used for reading csv files\n",
        "\n",
        "# The following command will parse the file and store it in the variable \"data\"\n",
        "data = pd.read_csv('https://raw.githubusercontent.com/TheTrappist/teaching/main/Biochem6761/AU24/Sample_data/AU24_05_bacterial_growth_data.csv')\n"
      ],
      "metadata": {
        "id": "uzeCOqYiqtsj"
      },
      "execution_count": null,
      "outputs": []
    },
    {
      "cell_type": "code",
      "source": [
        "# The pandas read_csv command simply takes the data file and saves it to a\n",
        "# special type of variable called a \"dataframe\". Think of a dataframe as a\n",
        "# table, like a table you'd find in Excel or published in a paper. Let's print\n",
        "# it to see what the whole dataset looks like:\n",
        "\n",
        "print(data)"
      ],
      "metadata": {
        "id": "udBO9fNF7UI-"
      },
      "execution_count": null,
      "outputs": []
    },
    {
      "cell_type": "markdown",
      "source": [
        "What you see in the table above looks just like a table, right? These data represent the growth of two different bacterial cultures in early log phase (where it can be well-modeled as exponential growth). The first column, time_min, contains the time (in minutes) at which the density (OD) of cultures was measured, while the columns od_culture1 and od_culture2 store the OD measurements of the two cultures at each time point."
      ],
      "metadata": {
        "id": "FbwnOdUG78Y0"
      }
    },
    {
      "cell_type": "code",
      "source": [
        "# How do we select just one column of a dataframe? It's very easy: you just need\n",
        "# the column name. Let's try:\n",
        "\n",
        "# Select the first column\n",
        "col1 = data['time_min']\n",
        "# Note: the square brackets are needed to show that we're selecting a subset\n",
        "# (a fragment) of 'data'.\n",
        "\n",
        "# Let's make sure it worked by printing the result\n",
        "print(col1)"
      ],
      "metadata": {
        "id": "1rxjyOB48phG"
      },
      "execution_count": null,
      "outputs": []
    },
    {
      "cell_type": "code",
      "source": [
        "# Now, let's select the column storing optical densities of culture 2:\n",
        "culture2 = data['od_culture2']\n",
        "\n",
        "print(culture2)"
      ],
      "metadata": {
        "id": "w61QaA809CLF"
      },
      "execution_count": null,
      "outputs": []
    },
    {
      "cell_type": "code",
      "source": [
        "# Now, let's make a simple plot of culture2 optical densities at each time point\n",
        "from matplotlib import pyplot as plt\n",
        "\n",
        "plt.style.use(\"bmh\") # This is emphatically NOT required, it's just a visual\n",
        "# option to make plots look a little nicer. Try removing it to see what happens.\n",
        "\n",
        "# First, we need to create a figure and an axes object to plot on:\n",
        "\n",
        "fig, ax = plt.subplots() # the variable \"ax\" that we got here is the name of the\n",
        "# new axes object that we can make one or more plots in.\n",
        "\n",
        "# Let's plot OD vs. time for culture 1\n",
        "time = data['time_min']\n",
        "od_cult1 = data['od_culture1']\n",
        "\n",
        "ax.plot(time, od_cult1, ls='', marker='o') # This is the main plot command.\n",
        "# It requires x-values ('time' in our case), y-values ('od_cult1'), and can also\n",
        "# accept a range of different optional parameters. I am passing two optional\n",
        "# parameters to it here: 'ls', which stands for linestyle and specifies how the\n",
        "# individual points of the plot are to be connected, and 'marker', which is the\n",
        "# way individual points are to be represented. I am setting ls to an empty\n",
        "# string ('') to show that I don't want points to be connected by a line at all,\n",
        "# and I'm setting marker to 'o' to make it into circles. Try plugging different\n",
        "# values for these and re-running the code to see what happens (e.g. '-' for ls\n",
        "# and '.' or 'x' for marker)"
      ],
      "metadata": {
        "id": "AlbhJUWG9RfO"
      },
      "execution_count": null,
      "outputs": []
    },
    {
      "cell_type": "code",
      "source": [
        "# Great, we have a plot! Now comes the fitting part. To fit, we need to\n",
        "# define an equation we'll be using to fit. We're assuming exponential growth\n",
        "# here, so let's fit it to an exponential equation of the form y = a*2^(x/tau).\n",
        "# This way, the parameter a will be a scaling factor (pre-exponent) while tau\n",
        "# will be a characteristic time parameter (effectively, the doubling time of the\n",
        "# culture).\n",
        "\n",
        "# To define a custom equation, we need to use the following syntax:\n",
        "\n",
        "def exp_growth(x, a, tau): # def is a key word indicating a new function\n",
        "  # The things in parenthesis in the function definition are all the different\n",
        "  # values that you need to evaluate the function. In our case, that's three\n",
        "  # values: x, which is the independent variable (time), the pre-exponent a,\n",
        "  # and the characteristic time tau.\n",
        "\n",
        "  #The actual function goes here\n",
        "  y = a*2**(x/tau) # double star (**) means \"raise to a power\"\n",
        "  return y # This is what the function gives back to us after it's evaluated.\n",
        "\n",
        "# We have the function defined now! But we haven't asked it to do anything yet."
      ],
      "metadata": {
        "id": "TWTxs18l_yNH"
      },
      "execution_count": null,
      "outputs": []
    },
    {
      "cell_type": "code",
      "source": [
        "# Now, let's fit our data to the exponential function we defined\n",
        "\n",
        "from scipy.optimize import curve_fit # We need to import the curve_fit function\n",
        "\n",
        "# to use curve_fit, we need to give it the function to fit to, x-values,\n",
        "# y-values, and some optional parameters.\n",
        "popt, pcov = curve_fit(exp_growth, time, od_cult1) # This part does the fitting!\n",
        "\n",
        "# The fit already happened, but we don't know how it performed yet. The results\n",
        "# of the fit are now stored int he variable 'popt'. Let's print this variable\n",
        "# and investigate:\n",
        "\n",
        "print(popt)\n",
        "\n",
        "# As you can see, there are two values in popt. That's because we are fitting a\n",
        "# function that takes two parameters in addition to x values; specifically,\n",
        "# these parameters are 'a' and 'tau'. The 'popt' variable is an array that has\n",
        "# as many values as the number of free parameters in the function you're using.\n",
        "# How do we know which one is which? It's simple: they appear in popt in the\n",
        "# same order as they did in our function definition."
      ],
      "metadata": {
        "id": "LWmK1w7NCazH"
      },
      "execution_count": null,
      "outputs": []
    },
    {
      "cell_type": "code",
      "source": [
        "# This means that the first element in popt should have the fit result for the\n",
        "# pre-exponent, and the second element should have the fit result for the\n",
        "# characteristic time tau. Let's see what the pre-exponent looks like:\n",
        "\n",
        "print(popt[0])"
      ],
      "metadata": {
        "id": "81La0nz4EZjG"
      },
      "execution_count": null,
      "outputs": []
    },
    {
      "cell_type": "code",
      "source": [
        "# That's a REALLY small value, so our fitting probably failed. However, to be\n",
        "# sure, we can just plot the fit result. To do that, we need to generate a new\n",
        "# curve for the fit result.\n",
        "\n",
        "# Generating a new curve starts with making a number of closely spaced x-values.\n",
        "\n",
        "import numpy as np # Numpy is a library we will need for handling arrays of data\n",
        "\n",
        "x_vals = np.linspace(0,120,100) # The linspace command makes any number of\n",
        "# equally spaced values between two endpoints. The first two parameters in\n",
        "# parentheses indicate the start and end points, while the third parameter is\n",
        "# the number of datapoints we want.\n",
        "\n",
        "# Now that we have 100 x-values from 0 to 120 minutes, let's calculate the\n",
        "# y-values for them using our (probably wrong) fit results.\n",
        "\n",
        "a = popt[0] # pre-exponent from our fit\n",
        "tau = popt [1] # tau from our fit\n",
        "\n",
        "y_vals_fit = exp_growth(x_vals, a, tau) # Just using our previous function!\n",
        "\n",
        "# Now, we have paired x and y values. Let's plot them next to the data to see\n",
        "# how it all looks\n",
        "\n",
        "fig2, ax2 = plt.subplots() # Create the plot\n",
        "ax2.plot(time, od_cult1, ls='', marker='o') # Plot the raw data\n",
        "ax2.plot(x_vals, y_vals_fit) # plot the fit result"
      ],
      "metadata": {
        "id": "o3AGYS0yEuh4"
      },
      "execution_count": null,
      "outputs": []
    },
    {
      "cell_type": "code",
      "source": [
        "# As you can see, the plotting worked, but our fit is clearly not good since it\n",
        "# explodes to insanely high values at the 120 minute mark. This is sometimes a\n",
        "# problem with nonlinear curve fitting, where a bad initial guess of the fit\n",
        "# parameters can get the algorithm stuck in an unphysical local minimum. We can\n",
        "# help the algorithm do much better by giving it coarse but realistic estimates\n",
        "# of tau and the pre-exponent, which we can get by looking at our plot. To do\n",
        "# this, we pass the optional 'p0' parameter to the curve_fit function; p0 should\n",
        "# be a list with the same number of elements as the number of free parameters in\n",
        "# the fit function (in our case, two: one for pre-exponent, one for tau)\n",
        "\n",
        "popt, pcov = curve_fit(exp_growth, time, od_cult1, p0=[0.1, 50])\n",
        "\n",
        "print(popt)"
      ],
      "metadata": {
        "id": "3Uu7YuJ8GjeB"
      },
      "execution_count": null,
      "outputs": []
    },
    {
      "cell_type": "code",
      "source": [
        "# Now the two values are looking much more realistic! Let's plot the new fit.\n",
        "\n",
        "y_vals_newfit = exp_growth(x_vals, popt[0], popt[1]) # Getting new popt values\n",
        "\n",
        "\n",
        "fig3, ax3 = plt.subplots() # Create the plot\n",
        "ax3.plot(time, od_cult1, ls='', marker='o') # Plot the raw data\n",
        "ax3.plot(x_vals, y_vals_newfit) # plot the fit result"
      ],
      "metadata": {
        "id": "j3G_O_XZDy7o"
      },
      "execution_count": null,
      "outputs": []
    },
    {
      "cell_type": "code",
      "source": [
        "# Looks so much better, doesn't it? Now let's put it all together and fit the\n",
        "# two datasets side by side\n",
        "\n",
        "od_cult2 = data['od_culture2']\n",
        "\n",
        "popt2, pcov2 = curve_fit(exp_growth, time, od_cult2, p0=[0.1, 50]) # new fit\n",
        "y_vals_cult2 = exp_growth(x_vals, popt2[0], popt2[1]) # Getting new popt values\n",
        "\n",
        "fig4, ax4 = plt.subplots() # Create the plot\n",
        "ax4.plot(time, od_cult1, ls='', marker='o') # Plot the raw data\n",
        "ax4.plot(x_vals, y_vals_newfit) # plot the fit result\n",
        "\n",
        "ax4.plot(time, od_cult2, ls='', marker='o') # Plot the raw data for culture 2\n",
        "ax4.plot(x_vals, y_vals_cult2) # plot the fit result for culture 2"
      ],
      "metadata": {
        "id": "S5PyhoVnHwez"
      },
      "execution_count": null,
      "outputs": []
    },
    {
      "cell_type": "code",
      "source": [
        "# Finally, let's print the characteristic times from culture 1 and culture 2:\n",
        "\n",
        "print(popt[1]) # Characteristic time from culture 1\n",
        "print(popt2[1]) # Characteristic time from culutre 2\n",
        "\n",
        "# The time (in minutes) from culture 2 is almost twice as slow as that from\n",
        "# culture 1. Does that match what you see on the plot?"
      ],
      "metadata": {
        "id": "hoVai7EQIXyB"
      },
      "execution_count": null,
      "outputs": []
    }
  ]
}