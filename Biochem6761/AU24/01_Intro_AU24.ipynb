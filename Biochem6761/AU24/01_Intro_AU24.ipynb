{
  "nbformat": 4,
  "nbformat_minor": 0,
  "metadata": {
    "colab": {
      "provenance": [],
      "authorship_tag": "ABX9TyMgdLid4Fg0djAE3zQaSDzw",
      "include_colab_link": true
    },
    "kernelspec": {
      "name": "python3",
      "display_name": "Python 3"
    },
    "language_info": {
      "name": "python"
    }
  },
  "cells": [
    {
      "cell_type": "markdown",
      "metadata": {
        "id": "view-in-github",
        "colab_type": "text"
      },
      "source": [
        "<a href=\"https://colab.research.google.com/github/TheTrappist/teaching/blob/main/Biochem6761/AU24/01_Intro_AU24.ipynb\" target=\"_parent\"><img src=\"https://colab.research.google.com/assets/colab-badge.svg\" alt=\"Open In Colab\"/></a>"
      ]
    },
    {
      "cell_type": "code",
      "execution_count": null,
      "metadata": {
        "id": "4mJaSH4i5dsI"
      },
      "outputs": [],
      "source": [
        "# Hi, and welcome to Biochem 6761!\n",
        "# This is a comment. The computer won't do anything about it.\n",
        "# Single-line comments are indicated by a pound '#' sign.\n",
        "\n",
        "\"\"\"\n",
        "Multi-line comments look\n",
        "like this!\n",
        "\"\"\"\n",
        "\n",
        "# Let's have the computer actually do something.\n",
        "\n",
        "\n",
        "# Remove the comments below to run the sample code\n",
        "\n",
        "a = 5 # a is a variable. we can call it (almost) anything we want\n",
        "\"\"\"\n",
        "print(a)\n",
        "print(a+5)\n",
        "\n",
        "\"\"\"\n"
      ]
    },
    {
      "cell_type": "code",
      "source": [
        "# Variables can (and often do) store sequences of data, like a column or a table\n",
        "# in Excel. Let's see what that looks like.\n",
        "\n",
        "# The following is an import statement. It loads additional functions stored in\n",
        "# modules\n",
        "import numpy as np\n",
        "\n",
        "# Let's create a variable that stores a small linear array of data\n",
        "x = np.linspace(1,5,5)\n",
        "print(x)\n",
        "\n",
        "# Let's pull the first element of this array\n",
        "first_el = x[0] # note that the first element has the \"index\" of zero, not one\n",
        "print(first_el)\n",
        "\n",
        "# Now, let's pull the fourth element\n",
        "\"\"\"\n",
        "Remove comments and paste your code here!\n",
        "\"\"\"\n"
      ],
      "metadata": {
        "id": "uzeCOqYiqtsj"
      },
      "execution_count": null,
      "outputs": []
    },
    {
      "cell_type": "code",
      "source": [
        "# Excel starts having real trouble when your dataset reaches into the tens of\n",
        "# thousands of datapoints. Let's see how Python does:\n",
        "big_data = np.random.rand(1000,3)\n",
        "print(big_data)\n",
        "\n",
        "\"\"\"\n",
        "Remove these comments and see how big you can go before you start running into\n",
        "issues!\n",
        "\"\"\""
      ],
      "metadata": {
        "id": "vVLNl7VNVUZY"
      },
      "execution_count": null,
      "outputs": []
    },
    {
      "cell_type": "code",
      "source": [
        "# Getting into some simple plotting: visualizing your data is supremely helpful!\n",
        "\n",
        "# Import the standard plotting module\n",
        "from matplotlib import pyplot as plt\n",
        "\n",
        "small_data = np.random.rand(200,2)\n",
        "\n",
        "x = small_data[:,0]\n",
        "y = small_data[:,1]\n",
        "\n",
        "plt.plot(x,y, marker='o', linestyle='')\n"
      ],
      "metadata": {
        "id": "SzAXbHTFTVA4"
      },
      "execution_count": null,
      "outputs": []
    },
    {
      "cell_type": "code",
      "source": [
        "# Functions are a convenient way to group together several calculations\n",
        "\n",
        "# This is the definition of a function that takes the inverse of a number\n",
        "def take_inverse(x):\n",
        "  inv = 1.0 / x\n",
        "  return inv\n",
        "\n",
        "#Here's how we can use it inside other code\n",
        "\n",
        "test_num = 15\n",
        "test_result = take_inverse(test_num)\n",
        "print(test_result)\n"
      ],
      "metadata": {
        "id": "r1fN3oK3SQC_"
      },
      "execution_count": null,
      "outputs": []
    },
    {
      "cell_type": "code",
      "source": [
        "\"\"\"\n",
        "Your turn! In this cell, write a function that takes the average of two numbers.\n",
        "Check to see if it works!\n",
        "\"\"\"\n"
      ],
      "metadata": {
        "id": "DhUVBCUhZJZA"
      },
      "execution_count": null,
      "outputs": []
    },
    {
      "cell_type": "code",
      "source": [
        "# Let's put some of the above together and do some plotting!\n",
        "\n",
        "from matplotlib import pyplot as plt\n",
        "\n",
        "x = np.linspace(0, 10, 100)\n",
        "\n",
        "# This is a definition of a function\n",
        "def exponent(x,a):\n",
        "  y = np.power(x,a)\n",
        "  return(y)\n",
        "\n",
        "y = exponent(x,2)\n",
        "\n",
        "plt.style.use(\"bmh\")\n",
        "\n",
        "# Let's make a simple plot\n",
        "fig, ax = plt.subplots()\n",
        "ax.plot(x,y)\n"
      ],
      "metadata": {
        "id": "RRSsv2s_TDJo"
      },
      "execution_count": null,
      "outputs": []
    },
    {
      "cell_type": "code",
      "source": [
        "# Let's write a simple loop to see how this plot will change when we change\n",
        "# the exponent\n",
        "\n",
        "fig2, ax2 = plt.subplots()\n",
        "\n",
        "for exp in np.linspace(0.4,3,8):\n",
        "  ax2.plot(x, exponent(x,exp))\n"
      ],
      "metadata": {
        "id": "8YHNBWTsbFCY"
      },
      "execution_count": null,
      "outputs": []
    },
    {
      "cell_type": "markdown",
      "source": [
        "**This is a text cell. It won't trigger any code to run and can be used to annotate (describe) segments of code.**"
      ],
      "metadata": {
        "id": "p3pEXZe8V-Sf"
      }
    },
    {
      "cell_type": "markdown",
      "source": [
        "# This is a cell storing text and equations in LaTeX.\n",
        "\n",
        "The simple hyperbolic binding formula assumes that the concentration of receptor is very low:\n",
        "\n",
        "$f_{bound}=\\frac{[L]_{total}}{[L]_{total}+K_D}$\n",
        "\n",
        "\n",
        "The fuller (and more accurate) quadratic form explicitly accounts for the concentration of protein/receptor:\n",
        "\n",
        "$f_{bound}=\\frac{([R]_{total}+[L]_{total}+K_D)-\\sqrt{([R]_{total}+[L]_{total}+K_D)^2-4\\times[R]_{total}\\times{[L]_{total}}}}{2\\times[R]_{total}}$\n",
        "\n",
        "In both equations:\n",
        "\n",
        "- $f_{bound}$ is the fraction of receptors that have a ligand bound\n",
        "- $K_D$ is the dissociation constant for the ligand\n",
        "- $[L]_{total}$ is the total concentration of the ligand in solution\n",
        "- $[R]_{total}$ is the total concentration of protein (receptor) in solution\n",
        "\n",
        "\n",
        "A fun paper for reference that blasts most published binding analyses:https://elifesciences.org/articles/57264"
      ],
      "metadata": {
        "id": "MCrdrJYJQ5_d"
      }
    },
    {
      "cell_type": "code",
      "source": [
        "# Rewrite the functions described in the previous cell in actual code\n",
        "\n",
        "def f_bound_hyperbolic(L_tot,K_D):\n",
        "  f_bound = 1 / (1 + K_D/L_tot)\n",
        "  return f_bound\n",
        "\n",
        "def f_bound_quadratic(L_tot, K_D, R_tot):\n",
        "  # recast into standard quadratic equation for clarity\n",
        "  a = R_tot\n",
        "  b = -(R_tot+L_tot+K_D)\n",
        "  c = L_tot\n",
        "  f_bound = (-b - np.sqrt(b**2-4*a*c)) / (2*a)\n",
        "  return f_bound\n",
        "\n",
        "# Define a concentration range and parameters.\n",
        "L_tot = np.linspace(0.1,500,500)\n",
        "K_D = 50\n",
        "R_tot = 300\n",
        "\n",
        "fig, axs = plt.subplots(2,1)\n",
        "\n",
        "f_hyper = f_bound_hyperbolic(L_tot,K_D)\n",
        "f_quad = f_bound_quadratic(L_tot, K_D, R_tot)\n",
        "\n",
        "axs[0].plot(L_tot, f_hyper)\n",
        "axs[1].plot(L_tot, f_quad)\n",
        "axs[1].set_xlabel('$L_{tot}$')\n",
        "\n",
        "\n",
        "# Can you make the quadratic plot for a wide range of R_tot values?\n",
        "\n",
        "\"\"\"\n",
        "Replace this with your code!\n",
        "\"\"\""
      ],
      "metadata": {
        "id": "K4XmHXTmYeZ6"
      },
      "execution_count": null,
      "outputs": []
    },
    {
      "cell_type": "code",
      "source": [
        "# Now, let's practice downloading some real data\n",
        "\n",
        "import pandas as pd # Pandas is a commonly used package in for working with data\n",
        "\n",
        "binding_data = pd.read_csv('https://raw.githubusercontent.com/TheTrappist/teaching/main/Biochem6761/AU24/Sample_data/AU24_01_binding_Data_single.csv')\n",
        "\n",
        "print(binding_data)"
      ],
      "metadata": {
        "id": "XyeUrXldtUAj"
      },
      "execution_count": null,
      "outputs": []
    },
    {
      "cell_type": "code",
      "source": [
        "# Let's plot these data and try to fit them!\n",
        "\n",
        "# Load the nonlinear least squares fit function:\n",
        "from scipy.optimize import curve_fit\n",
        "\n",
        "x_vals = binding_data['ligand_nM']\n",
        "y_vals = binding_data['frac_bound']\n",
        "\n",
        "# plot the data\n",
        "fig3, ax3 = plt.subplots()\n",
        "ax3.plot(x_vals, y_vals, linestyle='', marker='o', color='g')\n",
        "\n",
        "# Fit the data to a hyperbolic function\n",
        "# this is the actual fitting step:\n",
        "popt, pcov = curve_fit(f_bound_hyperbolic, x_vals, y_vals)\n",
        "\n",
        "\n",
        "# Plot the fit:\n",
        "x_axis_for_fit = np.linspace(0.1,200,200)\n",
        "f_hyper_fit = f_bound_hyperbolic(x_axis_for_fit, popt[0])\n",
        "ax3.plot(x_axis_for_fit, f_hyper_fit, color='b')\n",
        "print(\"Kd from hyperbolic fit:\", popt[0])\n",
        "\n",
        "# Is it a good fit? Let's try the quadratic form\n",
        "\n",
        "\"\"\"\n",
        "# prepare function for fitting while keeping R_tot constant\n",
        "R_tot = 50 # We need to define total receptor concentration\n",
        "def quad_with_R_tot(L_tot, K_D):\n",
        "  return(f_bound_quadratic(L_tot, K_D, R_tot))\n",
        "\n",
        "# quadratic fitting step:\n",
        "popt, pcov = curve_fit(quad_with_R_tot, x_vals, y_vals)\n",
        "f_quad_fit = quad_with_R_tot(x_axis_for_fit, popt[0])\n",
        "ax3.plot(x_axis_for_fit, f_quad_fit, color='r')\n",
        "\n",
        "print(\"Kd from quadratic fit:\", popt[0])\n",
        "\"\"\"\n"
      ],
      "metadata": {
        "id": "KYmaMHzeuzxa"
      },
      "execution_count": null,
      "outputs": []
    },
    {
      "cell_type": "code",
      "source": [
        "# Try it yourself with a larger dataset!\n",
        "\n",
        "#Download the data from here:\n",
        "'https://raw.githubusercontent.com/TheTrappist/teaching/main/Biochem6761/AU24/Sample_data/AU24_02_binding_Data_multi.csv'\n",
        "\n",
        "# And try plotting and fitting it to quadratic and hyperbolic binding forms."
      ],
      "metadata": {
        "id": "kkEm-9-R0glr"
      },
      "execution_count": null,
      "outputs": []
    }
  ]
}