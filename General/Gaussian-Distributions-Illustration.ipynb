{
 "cells": [
  {
   "cell_type": "code",
   "execution_count": null,
   "id": "0a795524",
   "metadata": {},
   "outputs": [],
   "source": [
    "import matplotlib.pyplot as plt\n",
    "import numpy as np"
   ]
  },
  {
   "cell_type": "code",
   "execution_count": null,
   "id": "c2e7e522",
   "metadata": {},
   "outputs": [],
   "source": [
    "# Define a Gaussian distribution\n",
    "def gauss(x, sigma, mu):\n",
    "    \"\"\"Standard Gaussian distribution\"\"\"\n",
    "    exponent = -0.5*np.power((x-mu)/sigma,2)\n",
    "    pre_exp = 1.0 / (sigma * np.sqrt(2*np.pi))\n",
    "    result = pre_exp * np.power(np.e, exponent)\n",
    "    return result\n",
    "\n",
    "# Define the Gaussian approximation to a binomial distribution\n",
    "def gauss_binom(x, M, p):\n",
    "    \"\"\"Gaussian approximation of a binomial distribution\"\"\"\n",
    "    sigma = np.sqrt(M*p*(1-p))\n",
    "    mu = M*p\n",
    "\n",
    "    return gauss(x,sigma,mu)\n"
   ]
  },
  {
   "cell_type": "code",
   "execution_count": null,
   "id": "7b71a9b9",
   "metadata": {},
   "outputs": [],
   "source": [
    "# Plot the distribution over a given range\n",
    "\n",
    "M, p = 5000, 0.7\n",
    "\n",
    "x = np.arange(1,5000,1)\n",
    "y = gauss_binom(x, M, p)\n",
    "\n",
    "fig, ax = plt.subplots(figsize=(6,4), dpi=600)\n",
    "\n",
    "ax.plot(x,y)\n",
    "ax.set_xlabel('Number of receptors with ligand bound')\n",
    "ax.set_ylabel('Probability')\n",
    "\n",
    "print(gauss_binom(3500,M,p))\n",
    "print(gauss_binom(3000,M,p))"
   ]
  }
 ],
 "metadata": {
  "kernelspec": {
   "display_name": "basic",
   "language": "python",
   "name": "python3"
  },
  "language_info": {
   "codemirror_mode": {
    "name": "ipython",
    "version": 3
   },
   "file_extension": ".py",
   "mimetype": "text/x-python",
   "name": "python",
   "nbconvert_exporter": "python",
   "pygments_lexer": "ipython3",
   "version": "3.13.2"
  }
 },
 "nbformat": 4,
 "nbformat_minor": 5
}
